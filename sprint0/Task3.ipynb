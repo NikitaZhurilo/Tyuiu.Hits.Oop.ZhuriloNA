{
 "cells": [
  {
   "cell_type": "markdown",
   "metadata": {},
   "source": [
    "<h1 style=\"color:DodgerBlue\">Индивидальный проект</h1>"
   ]
  },
  {
   "cell_type": "markdown",
   "metadata": {},
   "source": [
    "<h2 style=\"color:DodgerBlue\">Название проекта: Создать базовый класс Supplier в C#</h2>\n",
    "\n",
    "\n",
    "\n",
    "### Вариант задания 14\n"
   ]
  },
  {
   "cell_type": "markdown",
   "metadata": {},
   "source": [
    "<h2 style=\"color:DodgerBlue\">Описание проекта:</h2>\n",
    "\n",
    "Описание задачи:\n",
    "Создать базовый класс Supplier в C#, который будет представлять информацию о\n",
    "поставщиках товаров или услуг. На основе этого класса разработать 2-3\n",
    "производных класса, демонстрирующих принципы наследования и полиморфизма.\n",
    "В каждом из классов должны быть реализованы новые атрибуты и методы, а также\n",
    "переопределены некоторые методы базового класса для демонстрации\n",
    "полиморфизма.\n",
    "Требования к базовому классу Supplier:\n",
    "• Атрибуты: ID поставщика (SupplierId), Название компании (CompanyName),\n",
    "Тип продукции (ProductType).\n",
    "• Методы:\n",
    "o GetCompanyInfo(): метод для получения информации о компании.\n",
    "o ProvideQuote(): метод для предоставления котировки на товары или\n",
    "услуги.\n",
    "o SubmitOrder(): метод для отправки заказа поставщику.\n",
    "Требования к производным классам:\n",
    "1. Производитель (Manufacturer): Должен содержать дополнительные атрибуты,\n",
    "такие как Год основания (FoundedYear). Метод ProvideQuote() должен быть\n",
    "переопределен для включения информации о годе основания компании в\n",
    "котировку.\n",
    "2. Ритейлер (Retailer): Должен содержать дополнительные атрибуты, такие как\n",
    "Расположение магазина (StoreLocation). Метод SubmitOrder() должен быть\n",
    "переопределен для добавления информации о расположении магазина при\n",
    "отправке заказа.\n",
    "3. Импортер (Importer) (если требуется третий класс): Должен содержать\n",
    "дополнительные атрибуты, такие как Страна происхождения товара\n",
    "(OriginCountry). Метод GetCompanyInfo() должен быть переопределен для\n",
    "отображения страны происхождения товара вместе с остальной\n",
    "информацией о компании.\n",
    "\n"
   ]
  },
  {
   "cell_type": "markdown",
   "metadata": {},
   "source": [
    "<h2 style=\"color:DodgerBlue\">Реализация:</h2>\n",
    "\n",
    "----"
   ]
  },
  {
   "cell_type": "code",
   "execution_count": null,
   "metadata": {
    "dotnet_interactive": {
     "language": "csharp"
    },
    "polyglot_notebook": {
     "kernelName": "csharp"
    }
   },
   "outputs": [],
   "source": [
    "using System;\n",
    "\n",
    "public class Supplier\n",
    "{\n",
    "    public int SupplierId { get; set; }\n",
    "    public string CompanyName { get; set; }\n",
    "    public string ProductType { get; set; }\n",
    "\n",
    "    public Supplier(int supplierId, string companyName, string productType)\n",
    "    {\n",
    "        SupplierId = supplierId;\n",
    "        CompanyName = companyName;\n",
    "        ProductType = productType;\n",
    "    }\n",
    "\n",
    "    public virtual void GetCompanyInfo()\n",
    "    {\n",
    "        Console.WriteLine($\"ID поставщика: {SupplierId}\");\n",
    "        Console.WriteLine($\"Название компании: {CompanyName}\");\n",
    "        Console.WriteLine($\"Тип продукции: {ProductType}\");\n",
    "    }\n",
    "\n",
    "    public virtual void ProvideQuote()\n",
    "    {\n",
    "        Console.WriteLine($\"Котировка от {CompanyName} на товары типа: {ProductType}\");\n",
    "    }\n",
    "\n",
    "    public virtual void SubmitOrder()\n",
    "    {\n",
    "        Console.WriteLine($\"Заказ отправлен поставщику: {CompanyName}\");\n",
    "    }\n",
    "}\n",
    "\n",
    "public class Manufacturer : Supplier\n",
    "{\n",
    "    public int FoundedYear { get; set; }\n",
    "\n",
    "    public Manufacturer(int supplierId, string companyName, string productType, int foundedYear) \n",
    "        : base(supplierId, companyName, productType)\n",
    "    {\n",
    "        FoundedYear = foundedYear;\n",
    "    }\n",
    "\n",
    "    public override void ProvideQuote()\n",
    "    {\n",
    "        Console.WriteLine($\"Котировка от производителя {CompanyName}\");\n",
    "        Console.WriteLine($\"Год основания: {FoundedYear}\");\n",
    "        Console.WriteLine($\"Опыт работы: {DateTime.Now.Year - FoundedYear} лет\");\n",
    "        Console.WriteLine($\"Тип продукции: {ProductType}\");\n",
    "        Console.WriteLine(\"--- Специальные условия для производителей ---\");\n",
    "    }\n",
    "}\n",
    "\n",
    "public class Retailer : Supplier\n",
    "{\n",
    "    public string StoreLocation { get; set; }\n",
    "\n",
    "    public Retailer(int supplierId, string companyName, string productType, string storeLocation) \n",
    "        : base(supplierId, companyName, productType)\n",
    "    {\n",
    "        StoreLocation = storeLocation;\n",
    "    }\n",
    "\n",
    "    public override void SubmitOrder()\n",
    "    {\n",
    "        Console.WriteLine($\"Заказ отправлен ритейлеру: {CompanyName}\");\n",
    "        Console.WriteLine($\"Местоположение магазина: {StoreLocation}\");\n",
    "        Console.WriteLine(\"Заказ будет обработан в течение 24 часов\");\n",
    "        Console.WriteLine(\"--- Самовывоз доступен из указанного местоположения ---\");\n",
    "    }\n",
    "}\n",
    "\n",
    "public class Importer : Supplier\n",
    "{\n",
    "\n",
    "    public string OriginCountry { get; set; }\n",
    "\n",
    "    public Importer(int supplierId, string companyName, string productType, string originCountry) \n",
    "        : base(supplierId, companyName, productType)\n",
    "    {\n",
    "        OriginCountry = originCountry;\n",
    "    }\n",
    "\n",
    "    public override void GetCompanyInfo()\n",
    "    {\n",
    "        Console.WriteLine($\"ID импортера: {SupplierId}\");\n",
    "        Console.WriteLine($\"Название компании: {CompanyName}\");\n",
    "        Console.WriteLine($\"Тип продукции: {ProductType}\");\n",
    "        Console.WriteLine($\"Страна происхождения товара: {OriginCountry}\");\n",
    "        Console.WriteLine(\"--- Специализированный импортер товаров ---\");\n",
    "    }\n",
    "}\n",
    "\n",
    "\n"
   ]
  }
 ],
 "metadata": {
  "kernelspec": {
   "display_name": ".NET (C#)",
   "language": "C#",
   "name": ".net-csharp"
  },
  "polyglot_notebook": {
   "kernelInfo": {
    "defaultKernelName": "csharp",
    "items": [
     {
      "aliases": [],
      "languageName": "csharp",
      "name": "csharp"
     }
    ]
   }
  }
 },
 "nbformat": 4,
 "nbformat_minor": 2
}
